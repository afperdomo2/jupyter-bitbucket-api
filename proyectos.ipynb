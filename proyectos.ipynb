{
 "cells": [
  {
   "cell_type": "markdown",
   "id": "280a8149",
   "metadata": {},
   "source": [
    "# Proyectos bitbucket"
   ]
  },
  {
   "cell_type": "markdown",
   "id": "f205ddc3",
   "metadata": {},
   "source": [
    "## 📦Obtener los datos"
   ]
  },
  {
   "cell_type": "markdown",
   "id": "da8a631e",
   "metadata": {},
   "source": [
    "### 1. Repositorios"
   ]
  },
  {
   "cell_type": "markdown",
   "id": "c8f3bbc1",
   "metadata": {},
   "source": [
    "Consultar los repositorios"
   ]
  },
  {
   "cell_type": "code",
   "execution_count": 482,
   "id": "75440ed9",
   "metadata": {},
   "outputs": [
    {
     "name": "stderr",
     "output_type": "stream",
     "text": [
      "\n",
      "[notice] A new release of pip is available: 24.3.1 -> 25.0.1\n",
      "[notice] To update, run: python.exe -m pip install --upgrade pip\n"
     ]
    },
    {
     "name": "stdout",
     "output_type": "stream",
     "text": [
      "Requirement already satisfied: python-dotenv in .\\venv\\lib\\site-packages (1.0.1)\n",
      "Note: you may need to restart the kernel to use updated packages.\n",
      "Repositorios en itmz:\n"
     ]
    }
   ],
   "source": [
    "%pip install python-dotenv\n",
    "\n",
    "import requests\n",
    "import pandas as pd\n",
    "from dotenv import load_dotenv\n",
    "import os\n",
    "from IPython.display import display\n",
    "\n",
    "\n",
    "# Configura tus credenciales\n",
    "# Cargar las variables de entorno desde el archivo .env\n",
    "load_dotenv()\n",
    "\n",
    "username = os.getenv(\"BITBUCKET_USERNAME\")\n",
    "app_password = os.getenv(\"BITBUCKET_APP_PASSWORD\")\n",
    "workspace = os.getenv(\"BITBUCKET_WORKSPACE\")\n",
    "\n",
    "\n",
    "url_repos = f\"https://api.bitbucket.org/2.0/repositories/{workspace}\"\n",
    "\n",
    "response = requests.get(url_repos, auth=(username, app_password))\n",
    "\n",
    "if response.status_code == 200:\n",
    "    repositorios = response.json()\n",
    "    print(f\"Repositorios en {workspace}:\")\n",
    "    repos_data = []\n",
    "    for repo in repositorios.get(\"values\", []):\n",
    "        repos_data.append(\n",
    "            {\n",
    "                \"Nombre\": repo.get(\"name\"),\n",
    "                \"URL\": repo.get(\"links\", {}).get(\"html\", {}).get(\"href\"),\n",
    "            }\n",
    "        )\n",
    "    repos_df = pd.DataFrame(repos_data)\n",
    "    repos_df = repos_df.sort_values(\n",
    "        by=\"Nombre\"\n",
    "    )  # Ordenar por nombre del repositorio en ascendente\n",
    "    # print(repos_df)\n",
    "else:\n",
    "    print(\"Error al obtener repositorios:\", response.status_code, response.text)\n",
    "\n",
    "# Almacenar los repositorios en una variable para uso posterior\n",
    "repositorios = [\n",
    "    repo[\"Nombre\"]\n",
    "    for repo in repos_data\n",
    "    if repo[\"Nombre\"] not in [\"pgp\", \"Pruebas_erp\", \"Inventario\", \"b2c\", \"efi\"]\n",
    "]\n"
   ]
  },
  {
   "cell_type": "markdown",
   "id": "7e6f3c4e",
   "metadata": {},
   "source": [
    "Listado de repositorios"
   ]
  },
  {
   "cell_type": "code",
   "execution_count": 483,
   "id": "6deaf0e8",
   "metadata": {},
   "outputs": [
    {
     "data": {
      "text/html": [
       "<div>\n",
       "<style scoped>\n",
       "    .dataframe tbody tr th:only-of-type {\n",
       "        vertical-align: middle;\n",
       "    }\n",
       "\n",
       "    .dataframe tbody tr th {\n",
       "        vertical-align: top;\n",
       "    }\n",
       "\n",
       "    .dataframe thead th {\n",
       "        text-align: right;\n",
       "    }\n",
       "</style>\n",
       "<table border=\"1\" class=\"dataframe\">\n",
       "  <thead>\n",
       "    <tr style=\"text-align: right;\">\n",
       "      <th></th>\n",
       "      <th>Repositorio</th>\n",
       "    </tr>\n",
       "  </thead>\n",
       "  <tbody>\n",
       "    <tr>\n",
       "      <th>0</th>\n",
       "      <td>api_it_management</td>\n",
       "    </tr>\n",
       "    <tr>\n",
       "      <th>1</th>\n",
       "      <td>b2b</td>\n",
       "    </tr>\n",
       "    <tr>\n",
       "      <th>2</th>\n",
       "      <td>ApiEmpleados</td>\n",
       "    </tr>\n",
       "    <tr>\n",
       "      <th>3</th>\n",
       "      <td>fip</td>\n",
       "    </tr>\n",
       "    <tr>\n",
       "      <th>4</th>\n",
       "      <td>api_data_ERP</td>\n",
       "    </tr>\n",
       "  </tbody>\n",
       "</table>\n",
       "</div>"
      ],
      "text/plain": [
       "         Repositorio\n",
       "0  api_it_management\n",
       "1                b2b\n",
       "2       ApiEmpleados\n",
       "3                fip\n",
       "4       api_data_ERP"
      ]
     },
     "metadata": {},
     "output_type": "display_data"
    }
   ],
   "source": [
    "repos_df = pd.DataFrame(repositorios, columns=[\"Repositorio\"])\n",
    "display(repos_df)"
   ]
  },
  {
   "cell_type": "markdown",
   "id": "b573fe9b",
   "metadata": {},
   "source": [
    "### 2. Funciones"
   ]
  },
  {
   "cell_type": "code",
   "execution_count": 484,
   "id": "5b5a6b2d",
   "metadata": {},
   "outputs": [],
   "source": [
    "# Función para obtener todos los elementos paginados\n",
    "def get_all_items(url, params=None):\n",
    "    items = []\n",
    "    response = requests.get(url, params=params, auth=(username, app_password))\n",
    "    if response.status_code != 200:\n",
    "        print(\"Error:\", response.status_code, response.text)\n",
    "        return items\n",
    "    data = response.json()\n",
    "    items.extend(data.get(\"values\", []))\n",
    "    return items\n"
   ]
  },
  {
   "cell_type": "markdown",
   "id": "50436680",
   "metadata": {},
   "source": [
    "### 3. Pull requests"
   ]
  },
  {
   "cell_type": "markdown",
   "id": "3529fef7",
   "metadata": {},
   "source": [
    "Consultar todos los estados de PR's.\n",
    "\n",
    "Filtrar 50 registros por páginas, 3 páginas"
   ]
  },
  {
   "cell_type": "code",
   "execution_count": 485,
   "id": "fba4b166",
   "metadata": {},
   "outputs": [
    {
     "name": "stdout",
     "output_type": "stream",
     "text": [
      "Obteniendo pull requests, repositorio: 'fip' - página: 1\n",
      "Obteniendo pull requests, repositorio: 'fip' - página: 2\n",
      "Obteniendo pull requests, repositorio: 'b2b' - página: 1\n",
      "Obteniendo pull requests, repositorio: 'b2b' - página: 2\n",
      "✅Total de pull requests: 200\n",
      "\n",
      "Obteniendo commits, repositorio: 'fip' - página: 1\n",
      "Obteniendo commits, repositorio: 'fip' - página: 2\n",
      "Obteniendo commits, repositorio: 'b2b' - página: 1\n",
      "Obteniendo commits, repositorio: 'b2b' - página: 2\n",
      "✅Total de commits: 200\n"
     ]
    }
   ],
   "source": [
    "cantidad_paginas = 2\n",
    "registros_por_pagina = 50  # Creo que no soporta más de 50 registros por página\n",
    "\n",
    "# Obtener pull requests\n",
    "pull_requests = []\n",
    "\n",
    "# for repo_slug in repositorios:\n",
    "for repo_slug in [\"fip\", \"b2b\"]:\n",
    "    pr_url = f\"https://api.bitbucket.org/2.0/repositories/{workspace}/{repo_slug}/pullrequests\"\n",
    "    for page in range(1, cantidad_paginas + 1):\n",
    "        pull_requests.extend(\n",
    "            get_all_items(\n",
    "                pr_url,\n",
    "                params={\"page\": page, \"pagelen\": registros_por_pagina, \"state\": \"ALL\"},\n",
    "            )\n",
    "        )\n",
    "        print(f\"Obteniendo pull requests, repositorio: '{repo_slug}' - página: {page}\")\n",
    "\n",
    "print(f\"✅Total de pull requests: {len(pull_requests)}\\n\")\n",
    "\n",
    "\n",
    "# Obtener commits\n",
    "commits = []\n",
    "\n",
    "for repo_slug in [\"fip\", \"b2b\"]:\n",
    "    commits_url = (\n",
    "        f\"https://api.bitbucket.org/2.0/repositories/{workspace}/{repo_slug}/commits\"\n",
    "    )\n",
    "    for page in range(1, cantidad_paginas + 1):\n",
    "        commits.extend(\n",
    "            get_all_items(\n",
    "                commits_url,\n",
    "                params={\"page\": page, \"pagelen\": registros_por_pagina},\n",
    "            )\n",
    "        )\n",
    "        print(f\"Obteniendo commits, repositorio: '{repo_slug}' - página: {page}\")\n",
    "\n",
    "print(f\"✅Total de commits: {len(commits)}\")"
   ]
  },
  {
   "cell_type": "markdown",
   "id": "a6718731",
   "metadata": {},
   "source": [
    "Filtrar registros de más de 60 días"
   ]
  },
  {
   "cell_type": "code",
   "execution_count": 486,
   "id": "12d64cd3",
   "metadata": {},
   "outputs": [
    {
     "name": "stdout",
     "output_type": "stream",
     "text": [
      "\n",
      "Total pull requests: 200\n",
      "Registros de los últimos 60 días: 103\n",
      "\n",
      "\n",
      "Total commits: 200\n",
      "Registros de los últimos 60 días y con 'Resolve:' en el mensaje: 112\n",
      "\n"
     ]
    }
   ],
   "source": [
    "# Filtrar los registros cuya fecha sea mayor a 60 días\n",
    "cantidad_dias = 60\n",
    "\n",
    "\n",
    "print(f\"\\nTotal pull requests: {len(pull_requests)}\")\n",
    "fecha_limite = pd.Timestamp.now(tz=\"America/Bogota\") - pd.Timedelta(days=cantidad_dias)\n",
    "pull_requests = [\n",
    "    pr for pr in pull_requests if pd.to_datetime(pr[\"created_on\"]) >= fecha_limite\n",
    "]\n",
    "print(f\"Registros de los últimos {cantidad_dias} días: {len(pull_requests)}\\n\")\n",
    "\n",
    "\n",
    "print(f\"\\nTotal commits: {len(commits)}\")\n",
    "fecha_limite = pd.Timestamp.now(tz=\"America/Bogota\") - pd.Timedelta(days=cantidad_dias)\n",
    "commits = [\n",
    "    commit\n",
    "    for commit in commits\n",
    "    if pd.to_datetime(commit[\"date\"]) >= fecha_limite\n",
    "    and \"Resolve:\" in commit.get(\"message\", \"\")\n",
    "]\n",
    "print(\n",
    "    f\"Registros de los últimos {cantidad_dias} días y con 'Resolve:' en el mensaje: {len(commits)}\\n\"\n",
    ")"
   ]
  },
  {
   "cell_type": "markdown",
   "id": "5ee0cab1",
   "metadata": {},
   "source": [
    "Limpiar **pull requests**:\n",
    "\n",
    "- Agrega campos nuevos\n",
    "- Elimina campos sin uso\n",
    "- Ordena por created_on DESC"
   ]
  },
  {
   "cell_type": "code",
   "execution_count": 487,
   "id": "40846f87",
   "metadata": {},
   "outputs": [],
   "source": [
    "for pr in pull_requests:\n",
    "    if \"author\" in pr and \"nickname\" in pr[\"author\"]:\n",
    "        pr[\"author\"] = pr[\"author\"][\"nickname\"]\n",
    "    if \"source\" in pr and \"branch\" in pr[\"source\"] and \"name\" in pr[\"source\"][\"branch\"]:\n",
    "        pr[\"branch\"] = pr[\"source\"][\"branch\"][\"name\"]\n",
    "        pr[\"type_branch\"] = (\n",
    "            pr[\"branch\"].split(\"/\")[0] if \"/\" in pr[\"branch\"] else \"unknown\"\n",
    "        )\n",
    "    if (\n",
    "        \"source\" in pr\n",
    "        and \"repository\" in pr[\"source\"]\n",
    "        and \"name\" in pr[\"source\"][\"repository\"]\n",
    "    ):\n",
    "        pr[\"repository\"] = pr[\"source\"][\"repository\"][\"name\"]\n",
    "    if pr.get(\"merge_commit\") and \"hash\" in pr[\"merge_commit\"]:\n",
    "        pr[\"merge_commit\"] = pr[\"merge_commit\"][\"hash\"]\n",
    "\n",
    "    # Calculate days_open based on the PR state\n",
    "    if \"state\" in pr and \"created_on\" in pr:\n",
    "        created_on = pd.to_datetime(pr[\"created_on\"])\n",
    "        if pr[\"state\"] == \"OPEN\":\n",
    "            # For open PRs: days between created_on and now\n",
    "            days_open = (\n",
    "                pd.Timestamp.now(tz=\"America/Bogota\")\n",
    "                - created_on.tz_convert(\"America/Bogota\")\n",
    "            ).days\n",
    "        elif pr[\"state\"] == \"MERGED\" and \"updated_on\" in pr:\n",
    "            # For merged PRs: days between created_on and updated_on\n",
    "            updated_on = pd.to_datetime(pr[\"updated_on\"])\n",
    "            days_open = (\n",
    "                updated_on.tz_convert(\"America/Bogota\")\n",
    "                - created_on.tz_convert(\"America/Bogota\")\n",
    "            ).days\n",
    "        else:\n",
    "            days_open = 0\n",
    "        pr[\"days_open\"] = days_open\n",
    "\n",
    "\n",
    "df_pr = pd.DataFrame(pull_requests)\n",
    "\n",
    "# Sort by created_on in descending order to show most recent records first\n",
    "df_pr = df_pr.sort_values(by=\"created_on\", ascending=False)\n",
    "\n",
    "# Eliminar columnas innecesarias\n",
    "df_pr = df_pr.drop(\n",
    "    columns=[\n",
    "        \"type\",\n",
    "        \"title\",\n",
    "        \"description\",\n",
    "        \"reason\",\n",
    "        \"destination\",\n",
    "        \"summary\",\n",
    "        \"closed_by\",\n",
    "        \"links\",\n",
    "        \"source\",\n",
    "    ]\n",
    ")"
   ]
  },
  {
   "cell_type": "markdown",
   "id": "b7f82a69",
   "metadata": {},
   "source": [
    "Limpiar **commits**\n",
    "\n",
    "- Agrega campos nuevos\n",
    "- Elimina campos sin uso\n",
    "- Ordena por created_on DESC"
   ]
  },
  {
   "cell_type": "code",
   "execution_count": 488,
   "id": "74e52ad6",
   "metadata": {},
   "outputs": [],
   "source": [
    "for cm in commits:\n",
    "    # Extract author name from nested dictionary\n",
    "    if \"author\" in cm and \"user\" in cm[\"author\"] and \"nickname\" in cm[\"author\"][\"user\"]:\n",
    "        cm[\"author\"] = cm[\"author\"][\"user\"][\"nickname\"]\n",
    "    if \"repository\" in cm and \"name\" in cm[\"repository\"]:\n",
    "        cm[\"repository\"] = cm[\"repository\"][\"name\"]\n",
    "\n",
    "\n",
    "df_commits = pd.DataFrame(commits)\n",
    "\n",
    "# Sort by date in descending order to show most recent records first\n",
    "df_commits = df_commits.sort_values(by=\"date\", ascending=False)"
   ]
  },
  {
   "cell_type": "markdown",
   "id": "247e0bbd",
   "metadata": {},
   "source": [
    "Imprimir **pull requests**"
   ]
  },
  {
   "cell_type": "code",
   "execution_count": 489,
   "id": "ecb85e99",
   "metadata": {},
   "outputs": [
    {
     "name": "stdout",
     "output_type": "stream",
     "text": [
      "Cantidad de registros: 103\n"
     ]
    },
    {
     "data": {
      "text/html": [
       "<div>\n",
       "<style scoped>\n",
       "    .dataframe tbody tr th:only-of-type {\n",
       "        vertical-align: middle;\n",
       "    }\n",
       "\n",
       "    .dataframe tbody tr th {\n",
       "        vertical-align: top;\n",
       "    }\n",
       "\n",
       "    .dataframe thead th {\n",
       "        text-align: right;\n",
       "    }\n",
       "</style>\n",
       "<table border=\"1\" class=\"dataframe\">\n",
       "  <thead>\n",
       "    <tr style=\"text-align: right;\">\n",
       "      <th></th>\n",
       "      <th>comment_count</th>\n",
       "      <th>task_count</th>\n",
       "      <th>id</th>\n",
       "      <th>state</th>\n",
       "      <th>merge_commit</th>\n",
       "      <th>close_source_branch</th>\n",
       "      <th>author</th>\n",
       "      <th>created_on</th>\n",
       "      <th>updated_on</th>\n",
       "      <th>branch</th>\n",
       "      <th>type_branch</th>\n",
       "      <th>repository</th>\n",
       "      <th>days_open</th>\n",
       "    </tr>\n",
       "  </thead>\n",
       "  <tbody>\n",
       "    <tr>\n",
       "      <th>44</th>\n",
       "      <td>0</td>\n",
       "      <td>0</td>\n",
       "      <td>631</td>\n",
       "      <td>OPEN</td>\n",
       "      <td>None</td>\n",
       "      <td>True</td>\n",
       "      <td>Heriberto Sanchez</td>\n",
       "      <td>2025-03-10T15:50:06.028787+00:00</td>\n",
       "      <td>2025-03-10T15:50:06.804586+00:00</td>\n",
       "      <td>feature/BTB-731</td>\n",
       "      <td>feature</td>\n",
       "      <td>b2b</td>\n",
       "      <td>0</td>\n",
       "    </tr>\n",
       "    <tr>\n",
       "      <th>42</th>\n",
       "      <td>0</td>\n",
       "      <td>0</td>\n",
       "      <td>630</td>\n",
       "      <td>OPEN</td>\n",
       "      <td>None</td>\n",
       "      <td>True</td>\n",
       "      <td>Heriberto Sanchez</td>\n",
       "      <td>2025-03-10T14:02:19.431334+00:00</td>\n",
       "      <td>2025-03-10T16:48:01.400756+00:00</td>\n",
       "      <td>feature/BTB-723</td>\n",
       "      <td>feature</td>\n",
       "      <td>b2b</td>\n",
       "      <td>0</td>\n",
       "    </tr>\n",
       "    <tr>\n",
       "      <th>45</th>\n",
       "      <td>0</td>\n",
       "      <td>0</td>\n",
       "      <td>629</td>\n",
       "      <td>OPEN</td>\n",
       "      <td>None</td>\n",
       "      <td>True</td>\n",
       "      <td>Camilo Medina</td>\n",
       "      <td>2025-03-08T13:41:26.072376+00:00</td>\n",
       "      <td>2025-03-10T14:58:21.632109+00:00</td>\n",
       "      <td>feature/BTB-727</td>\n",
       "      <td>feature</td>\n",
       "      <td>b2b</td>\n",
       "      <td>2</td>\n",
       "    </tr>\n",
       "  </tbody>\n",
       "</table>\n",
       "</div>"
      ],
      "text/plain": [
       "    comment_count  task_count   id state merge_commit  close_source_branch  \\\n",
       "44              0           0  631  OPEN         None                 True   \n",
       "42              0           0  630  OPEN         None                 True   \n",
       "45              0           0  629  OPEN         None                 True   \n",
       "\n",
       "               author                        created_on  \\\n",
       "44  Heriberto Sanchez  2025-03-10T15:50:06.028787+00:00   \n",
       "42  Heriberto Sanchez  2025-03-10T14:02:19.431334+00:00   \n",
       "45      Camilo Medina  2025-03-08T13:41:26.072376+00:00   \n",
       "\n",
       "                          updated_on           branch type_branch repository  \\\n",
       "44  2025-03-10T15:50:06.804586+00:00  feature/BTB-731     feature        b2b   \n",
       "42  2025-03-10T16:48:01.400756+00:00  feature/BTB-723     feature        b2b   \n",
       "45  2025-03-10T14:58:21.632109+00:00  feature/BTB-727     feature        b2b   \n",
       "\n",
       "    days_open  \n",
       "44          0  \n",
       "42          0  \n",
       "45          2  "
      ]
     },
     "metadata": {},
     "output_type": "display_data"
    }
   ],
   "source": [
    "# print(type(df_pr))\n",
    "print(f\"Cantidad de registros: {len(df_pr)}\")\n",
    "display(df_pr.head(3))"
   ]
  },
  {
   "cell_type": "markdown",
   "id": "4e0343ec",
   "metadata": {},
   "source": [
    "Imprimir **commits**"
   ]
  },
  {
   "cell_type": "code",
   "execution_count": null,
   "id": "1ef10544",
   "metadata": {},
   "outputs": [
    {
     "name": "stdout",
     "output_type": "stream",
     "text": [
      "<class 'pandas.core.frame.DataFrame'>\n",
      "Cantidad de registros: 112\n"
     ]
    },
    {
     "data": {
      "text/html": [
       "<div>\n",
       "<style scoped>\n",
       "    .dataframe tbody tr th:only-of-type {\n",
       "        vertical-align: middle;\n",
       "    }\n",
       "\n",
       "    .dataframe tbody tr th {\n",
       "        vertical-align: top;\n",
       "    }\n",
       "\n",
       "    .dataframe thead th {\n",
       "        text-align: right;\n",
       "    }\n",
       "</style>\n",
       "<table border=\"1\" class=\"dataframe\">\n",
       "  <thead>\n",
       "    <tr style=\"text-align: right;\">\n",
       "      <th></th>\n",
       "      <th>type</th>\n",
       "      <th>hash</th>\n",
       "      <th>date</th>\n",
       "      <th>author</th>\n",
       "      <th>message</th>\n",
       "      <th>summary</th>\n",
       "      <th>links</th>\n",
       "      <th>parents</th>\n",
       "      <th>rendered</th>\n",
       "      <th>repository</th>\n",
       "    </tr>\n",
       "  </thead>\n",
       "  <tbody>\n",
       "    <tr>\n",
       "      <th>46</th>\n",
       "      <td>commit</td>\n",
       "      <td>0d7751efaca326e0f88cdffdece50ad5b77e5125</td>\n",
       "      <td>2025-03-10T16:58:23+00:00</td>\n",
       "      <td>Camilo Medina</td>\n",
       "      <td>🧪Feat: Agrega pedidos en estado ERROR AL APROB...</td>\n",
       "      <td>{'type': 'rendered', 'raw': '🧪Feat: Agrega ped...</td>\n",
       "      <td>{'self': {'href': 'https://api.bitbucket.org/2...</td>\n",
       "      <td>[{'hash': 'b03cad96b42f6fb7e55d312d2f43d8d92c8...</td>\n",
       "      <td>{'message': {'type': 'rendered', 'raw': '🧪Feat...</td>\n",
       "      <td>b2b</td>\n",
       "    </tr>\n",
       "    <tr>\n",
       "      <th>47</th>\n",
       "      <td>commit</td>\n",
       "      <td>1a6371d0597f6ff743a22190d4fb405691ef3e6a</td>\n",
       "      <td>2025-03-10T15:24:08+00:00</td>\n",
       "      <td>Heriberto Sanchez</td>\n",
       "      <td>🧪Feat (CFG/ProductoDesabastecido): Ajusta depe...</td>\n",
       "      <td>{'type': 'rendered', 'raw': '🧪Feat (CFG/Produc...</td>\n",
       "      <td>{'self': {'href': 'https://api.bitbucket.org/2...</td>\n",
       "      <td>[{'hash': 'b03cad96b42f6fb7e55d312d2f43d8d92c8...</td>\n",
       "      <td>{'message': {'type': 'rendered', 'raw': '🧪Feat...</td>\n",
       "      <td>b2b</td>\n",
       "    </tr>\n",
       "    <tr>\n",
       "      <th>48</th>\n",
       "      <td>commit</td>\n",
       "      <td>e9e08a45e79d1c9a9a9c482ea60e03fb80e03608</td>\n",
       "      <td>2025-03-10T13:57:26+00:00</td>\n",
       "      <td>Heriberto Sanchez</td>\n",
       "      <td>🧪Feat: Implementa botón regresar en el compone...</td>\n",
       "      <td>{'type': 'rendered', 'raw': '🧪Feat: Implementa...</td>\n",
       "      <td>{'self': {'href': 'https://api.bitbucket.org/2...</td>\n",
       "      <td>[{'hash': 'b03cad96b42f6fb7e55d312d2f43d8d92c8...</td>\n",
       "      <td>{'message': {'type': 'rendered', 'raw': '🧪Feat...</td>\n",
       "      <td>b2b</td>\n",
       "    </tr>\n",
       "  </tbody>\n",
       "</table>\n",
       "</div>"
      ],
      "text/plain": [
       "      type                                      hash  \\\n",
       "46  commit  0d7751efaca326e0f88cdffdece50ad5b77e5125   \n",
       "47  commit  1a6371d0597f6ff743a22190d4fb405691ef3e6a   \n",
       "48  commit  e9e08a45e79d1c9a9a9c482ea60e03fb80e03608   \n",
       "\n",
       "                         date             author  \\\n",
       "46  2025-03-10T16:58:23+00:00      Camilo Medina   \n",
       "47  2025-03-10T15:24:08+00:00  Heriberto Sanchez   \n",
       "48  2025-03-10T13:57:26+00:00  Heriberto Sanchez   \n",
       "\n",
       "                                              message  \\\n",
       "46  🧪Feat: Agrega pedidos en estado ERROR AL APROB...   \n",
       "47  🧪Feat (CFG/ProductoDesabastecido): Ajusta depe...   \n",
       "48  🧪Feat: Implementa botón regresar en el compone...   \n",
       "\n",
       "                                              summary  \\\n",
       "46  {'type': 'rendered', 'raw': '🧪Feat: Agrega ped...   \n",
       "47  {'type': 'rendered', 'raw': '🧪Feat (CFG/Produc...   \n",
       "48  {'type': 'rendered', 'raw': '🧪Feat: Implementa...   \n",
       "\n",
       "                                                links  \\\n",
       "46  {'self': {'href': 'https://api.bitbucket.org/2...   \n",
       "47  {'self': {'href': 'https://api.bitbucket.org/2...   \n",
       "48  {'self': {'href': 'https://api.bitbucket.org/2...   \n",
       "\n",
       "                                              parents  \\\n",
       "46  [{'hash': 'b03cad96b42f6fb7e55d312d2f43d8d92c8...   \n",
       "47  [{'hash': 'b03cad96b42f6fb7e55d312d2f43d8d92c8...   \n",
       "48  [{'hash': 'b03cad96b42f6fb7e55d312d2f43d8d92c8...   \n",
       "\n",
       "                                             rendered repository  \n",
       "46  {'message': {'type': 'rendered', 'raw': '🧪Feat...        b2b  \n",
       "47  {'message': {'type': 'rendered', 'raw': '🧪Feat...        b2b  \n",
       "48  {'message': {'type': 'rendered', 'raw': '🧪Feat...        b2b  "
      ]
     },
     "metadata": {},
     "output_type": "display_data"
    }
   ],
   "source": [
    "# print(type(df_commits))\n",
    "print(f\"Cantidad de registros: {len(df_commits)}\")\n",
    "display(df_commits.head(3))"
   ]
  },
  {
   "cell_type": "markdown",
   "id": "fc3b2302",
   "metadata": {},
   "source": [
    "### dasd"
   ]
  }
 ],
 "metadata": {
  "kernelspec": {
   "display_name": "venv",
   "language": "python",
   "name": "python3"
  },
  "language_info": {
   "codemirror_mode": {
    "name": "ipython",
    "version": 3
   },
   "file_extension": ".py",
   "mimetype": "text/x-python",
   "name": "python",
   "nbconvert_exporter": "python",
   "pygments_lexer": "ipython3",
   "version": "3.13.1"
  }
 },
 "nbformat": 4,
 "nbformat_minor": 5
}
