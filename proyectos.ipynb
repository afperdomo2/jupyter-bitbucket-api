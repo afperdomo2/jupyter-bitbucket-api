{
 "cells": [
  {
   "cell_type": "code",
   "execution_count": null,
   "id": "bd4b727a-dfc5-47fb-9014-438bcd00d66f",
   "metadata": {},
   "outputs": [],
   "source": []
  }
 ],
 "metadata": {
  "kernelspec": {
   "display_name": "",
   "name": ""
  },
  "language_info": {
   "name": ""
  }
 },
 "nbformat": 4,
 "nbformat_minor": 5
}
